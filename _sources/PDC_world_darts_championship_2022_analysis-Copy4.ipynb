{
 "cells": [
  {
   "cell_type": "markdown",
   "id": "4c711388",
   "metadata": {},
   "source": [
    "# 3. Preparation & preprocessing\n",
    "\n",
    "## 3.1. Duplicates\n",
    "\n",
    "**We can't drop duplicates because this dataset is meant to have duplicates.**"
   ]
  },
  {
   "cell_type": "markdown",
   "id": "1b898210",
   "metadata": {},
   "source": [
    "## 3.2 Splitting dataset"
   ]
  },
  {
   "cell_type": "markdown",
   "id": "6ad34dd6",
   "metadata": {},
   "source": [
    "**The 2 types of rows (score_change and dart_throw) contain very different information so let's split them up in 2 datasets**"
   ]
  },
  {
   "cell_type": "code",
   "execution_count": 151,
   "id": "9de45ada",
   "metadata": {},
   "outputs": [],
   "source": [
    "throws = darts[darts['type'] == 'single_throw_dart']\n",
    "score_changes = darts[darts['type'] == 'score_change_dart']"
   ]
  },
  {
   "cell_type": "markdown",
   "id": "c82eae7b",
   "metadata": {},
   "source": [
    "## 3.3 missing values"
   ]
  },
  {
   "cell_type": "markdown",
   "id": "c7bcff38",
   "metadata": {},
   "source": [
    "**Let's check for missing values on the throws dataset first**"
   ]
  },
  {
   "cell_type": "code",
   "execution_count": 152,
   "id": "de67b6b6",
   "metadata": {},
   "outputs": [
    {
     "data": {
      "text/plain": [
       "day                  0.0\n",
       "type                 0.0\n",
       "points               0.0\n",
       "segment              0.0\n",
       "event_points         0.0\n",
       "double_attempt       0.0\n",
       "team                 0.0\n",
       "leg_points_home    100.0\n",
       "leg_pints_away     100.0\n",
       "leg_score_home     100.0\n",
       "leg_score_away     100.0\n",
       "set_score_home     100.0\n",
       "set_score_away     100.0\n",
       "dtype: float64"
      ]
     },
     "execution_count": 152,
     "metadata": {},
     "output_type": "execute_result"
    }
   ],
   "source": [
    "throws.isna().sum().divide(len(throws)).round(4)*100"
   ]
  },
  {
   "cell_type": "markdown",
   "id": "d910b29c",
   "metadata": {},
   "source": [
    "**Great, no missing values for the first columns. This is because I already handled them in my datascrape code.**\n",
    "\n",
    "**The last columns however have 100% missing values, this is normal because these columns are for the score_change dataset. We can delete these columns.**"
   ]
  },
  {
   "cell_type": "code",
   "execution_count": 153,
   "id": "6f7ecdbb",
   "metadata": {},
   "outputs": [],
   "source": [
    "throws = throws[['day', 'type', 'points', 'segment', 'event_points', 'double_attempt', 'team']]"
   ]
  },
  {
   "cell_type": "markdown",
   "id": "f3a09eb0",
   "metadata": {},
   "source": [
    "**for the score_change dataset:**"
   ]
  },
  {
   "cell_type": "code",
   "execution_count": 155,
   "id": "0dc73953",
   "metadata": {},
   "outputs": [
    {
     "data": {
      "text/plain": [
       "day                  0.0\n",
       "type                 0.0\n",
       "points             100.0\n",
       "segment            100.0\n",
       "event_points       100.0\n",
       "double_attempt     100.0\n",
       "team                 0.0\n",
       "leg_points_home      0.0\n",
       "leg_pints_away       0.0\n",
       "leg_score_home       0.0\n",
       "leg_score_away       0.0\n",
       "set_score_home       0.0\n",
       "set_score_away       0.0\n",
       "dtype: float64"
      ]
     },
     "execution_count": 155,
     "metadata": {},
     "output_type": "execute_result"
    }
   ],
   "source": [
    "score_changes.isna().sum().divide(len(score_changes)).round(4)*100"
   ]
  },
  {
   "cell_type": "markdown",
   "id": "b8cdb591",
   "metadata": {},
   "source": [
    "**Also no missing values, except for the columns that are not necessary. Let's remove these as well**"
   ]
  },
  {
   "cell_type": "code",
   "execution_count": 156,
   "id": "1c98989a",
   "metadata": {},
   "outputs": [],
   "source": [
    "score_changes = score_changes[['day', 'type', 'leg_points_home', 'leg_pints_away', 'leg_score_home', 'leg_score_away', 'set_score_home', 'set_score_away']]"
   ]
  },
  {
   "cell_type": "markdown",
   "id": "0d4fe036",
   "metadata": {},
   "source": [
    "## 3.4. Anomalies and outliers"
   ]
  },
  {
   "cell_type": "markdown",
   "id": "96f25b4e",
   "metadata": {},
   "source": [
    "**A simple yet effective way to check for anomalies is to use a boxplot to visuale the data. Boxplots for some possible outlier sensitive columns are listed here:**"
   ]
  },
  {
   "cell_type": "code",
   "execution_count": 160,
   "id": "62172b8b",
   "metadata": {},
   "outputs": [
    {
     "data": {
      "image/png": "[encoded data removed]",
      "text/plain": [
       "<Figure size 432x288 with 1 Axes>"
      ]
     },
     "metadata": {
      "needs_background": "light"
     },
     "output_type": "display_data"
    }
   ],
   "source": [
    "throws['points'].plot(kind='box');"
   ]
  },
  {
   "cell_type": "code",
   "execution_count": 161,
   "id": "b7370dc3",
   "metadata": {},
   "outputs": [
    {
     "data": {
      "image/png": "[encoded data removed]",
      "text/plain": [
       "<Figure size 432x288 with 1 Axes>"
      ]
     },
     "metadata": {
      "needs_background": "light"
     },
     "output_type": "display_data"
    }
   ],
   "source": [
    "throws['segment'].plot(kind='box');"
   ]
  },
  {
   "cell_type": "code",
   "execution_count": 163,
   "id": "4605c845",
   "metadata": {},
   "outputs": [
    {
     "data": {
      "image/png": "[encoded data removed]",
      "text/plain": [
       "<Figure size 432x288 with 1 Axes>"
      ]
     },
     "metadata": {
      "needs_background": "light"
     },
     "output_type": "display_data"
    }
   ],
   "source": [
    "score_changes['leg_points_home'].plot(kind='box');"
   ]
  },
  {
   "cell_type": "markdown",
   "id": "8163222e",
   "metadata": {},
   "source": [
    "**Looks good. Let's start exploring the data.**"
   ]
  }
 ],
 "metadata": {
  "kernelspec": {
   "display_name": "Python 3 (ipykernel)",
   "language": "python",
   "name": "python3"
  },
  "language_info": {
   "codemirror_mode": {
    "name": "ipython",
    "version": 3
   },
   "file_extension": ".py",
   "mimetype": "text/x-python",
   "name": "python",
   "nbconvert_exporter": "python",
   "pygments_lexer": "ipython3",
   "version": "3.9.7"
  }
 },
 "nbformat": 4,
 "nbformat_minor": 5
}
